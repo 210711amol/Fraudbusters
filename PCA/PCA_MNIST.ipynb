{
  "nbformat": 4,
  "nbformat_minor": 0,
  "metadata": {
    "colab": {
      "provenance": []
    },
    "kernelspec": {
      "name": "python3",
      "display_name": "Python 3"
    },
    "language_info": {
      "name": "python"
    }
  },
  "cells": [
    {
      "cell_type": "markdown",
      "source": [
        "### 1. Introduction\n",
        "PCA implementation on MNIST dataset"
      ],
      "metadata": {
        "id": "29RjnJAhvF8t"
      }
    },
    {
      "cell_type": "code",
      "execution_count": 1,
      "metadata": {
        "id": "fLCBXn60vAIC"
      },
      "outputs": [],
      "source": [
        "import numpy as np\n",
        "import pandas as pd\n",
        "import matplotlib.pyplot as plt\n",
        "from sklearn.decomposition import PCA\n",
        "from sklearn.datasets import fetch_openml"
      ]
    },
    {
      "cell_type": "markdown",
      "source": [
        "### 2. Loading MNIST dataset"
      ],
      "metadata": {
        "id": "WaXH7cHuymVJ"
      }
    },
    {
      "cell_type": "code",
      "source": [
        "mnist = fetch_openml('mnist_784')\n",
        "X, y = mnist['data'], mnist['target']\n",
        "\n",
        "X = np.array(X)\n",
        "y = np.array(y)\n",
        "\n",
        "print(\"Shape of the dataset:\", X.shape)\n",
        "print(\"Number of classes:\", len(np.unique(y)))"
      ],
      "metadata": {
        "colab": {
          "base_uri": "https://localhost:8080/"
        },
        "id": "VjTEr94hvPKL",
        "outputId": "c09063fb-63c1-4ac5-9269-fabd09af5298"
      },
      "execution_count": 18,
      "outputs": [
        {
          "output_type": "stream",
          "name": "stderr",
          "text": [
            "/usr/local/lib/python3.10/dist-packages/sklearn/datasets/_openml.py:968: FutureWarning: The default value of `parser` will change from `'liac-arff'` to `'auto'` in 1.4. You can set `parser='auto'` to silence this warning. Therefore, an `ImportError` will be raised from 1.4 if the dataset is dense and pandas is not installed. Note that the pandas parser may return different data types. See the Notes Section in fetch_openml's API doc for details.\n",
            "  warn(\n"
          ]
        },
        {
          "output_type": "stream",
          "name": "stdout",
          "text": [
            "Shape of the dataset: (70000, 784)\n",
            "Number of classes: 10\n"
          ]
        }
      ]
    },
    {
      "cell_type": "markdown",
      "source": [
        "### 3. Data preprocessing"
      ],
      "metadata": {
        "id": "qt3XAmhvvV3B"
      }
    },
    {
      "cell_type": "code",
      "source": [
        "from sklearn.impute import SimpleImputer\n",
        "\n",
        "# Checking for missing values\n",
        "missing_values = np.isnan(X_scaled)\n",
        "print(\"Number of missing values in the dataset:\", np.sum(missing_values))\n",
        "\n",
        "# Replacing missing values with mean of each feature (column-wise imputation)\n",
        "imputer = SimpleImputer(strategy='mean')\n",
        "X_imputed = imputer.fit_transform(X_scaled)\n"
      ],
      "metadata": {
        "colab": {
          "base_uri": "https://localhost:8080/"
        },
        "id": "ABiQbg_JvZtO",
        "outputId": "5be65a2b-7270-4234-a706-196e44b0b9f5"
      },
      "execution_count": 10,
      "outputs": [
        {
          "output_type": "stream",
          "name": "stdout",
          "text": [
            "Number of missing values in the dataset: 4550000\n"
          ]
        }
      ]
    },
    {
      "cell_type": "markdown",
      "source": [
        "### 4. PCA"
      ],
      "metadata": {
        "id": "1ZP31MH0yfYo"
      }
    },
    {
      "cell_type": "code",
      "source": [
        "pca = PCA()\n",
        "pca.fit(X_imputed)\n",
        "\n",
        "# Get the number of components required to explain 95% of the variance\n",
        "n_components = np.argmax(np.cumsum(pca.explained_variance_ratio_) >= 0.95) + 1\n",
        "\n",
        "pca = PCA(n_components=n_components)\n",
        "X_pca = pca.fit_transform(X_imputed)\n",
        "\n",
        "# Check the number of components needed to explain 95% of the variance\n",
        "print(\"Number of components to explain 95% variance:\", n_components)"
      ],
      "metadata": {
        "colab": {
          "base_uri": "https://localhost:8080/"
        },
        "id": "Jj6W7qxxvaoq",
        "outputId": "e115cfc4-2535-4374-9adf-c1fc6ab5355e"
      },
      "execution_count": 14,
      "outputs": [
        {
          "output_type": "stream",
          "name": "stdout",
          "text": [
            "Number of components to explain 95% variance: 332\n"
          ]
        }
      ]
    },
    {
      "cell_type": "markdown",
      "source": [
        "### 5. Visualization of data in reduced space"
      ],
      "metadata": {
        "id": "wjS3f13fyYg0"
      }
    },
    {
      "cell_type": "code",
      "source": [
        "# Visualize the explained variance ratio\n",
        "plt.figure(figsize=(10, 6))\n",
        "plt.plot(np.cumsum(explained_variance_ratio), marker='o')\n",
        "plt.xlabel('Number of Components')\n",
        "plt.ylabel('Cumulative Explained Variance')\n",
        "plt.title('Explained Variance vs. Number of Components')\n",
        "plt.grid()\n",
        "plt.show()"
      ],
      "metadata": {
        "colab": {
          "base_uri": "https://localhost:8080/",
          "height": 564
        },
        "id": "YGi9cjCZwn34",
        "outputId": "010bf427-fd73-4016-c2f9-f360dc5f2cfd"
      },
      "execution_count": 15,
      "outputs": [
        {
          "output_type": "display_data",
          "data": {
            "text/plain": [
              "<Figure size 1000x600 with 1 Axes>"
            ],
            "image/png": "[encoded data removed]"
          },
          "metadata": {}
        }
      ]
    },
    {
      "cell_type": "markdown",
      "source": [
        "### 6. Classification after PCA"
      ],
      "metadata": {
        "id": "-xZwC1VTyQH-"
      }
    },
    {
      "cell_type": "code",
      "source": [
        "from sklearn.model_selection import train_test_split\n",
        "from sklearn.linear_model import LogisticRegression\n",
        "from sklearn.metrics import accuracy_score\n",
        "\n",
        "X_train, X_test, y_train, y_test = train_test_split(X_pca, y, test_size=0.2, random_state=42)\n",
        "\n",
        "logistic_regression = LogisticRegression(max_iter=1000, random_state=42)\n",
        "logistic_regression.fit(X_train, y_train)\n",
        "\n",
        "y_pred = logistic_regression.predict(X_test)\n",
        "\n",
        "accuracy = accuracy_score(y_test, y_pred)\n",
        "print(\"Accuracy of the Logistic Regression classifier on PCA-reduced data:\", accuracy)"
      ],
      "metadata": {
        "colab": {
          "base_uri": "https://localhost:8080/"
        },
        "id": "QG2r7Y7LxA5Y",
        "outputId": "7b326676-6bbf-4fad-c00c-df76501be9e1"
      },
      "execution_count": 17,
      "outputs": [
        {
          "output_type": "stream",
          "name": "stdout",
          "text": [
            "Accuracy of the Logistic Regression classifier on PCA-reduced data: 0.9221428571428572\n"
          ]
        }
      ]
    },
    {
      "cell_type": "markdown",
      "source": [
        "### 7. Conclusion\n",
        "In this notebook, we explored and applied PCA on the MNIST dataset. We visualized the explained variance ratio, reconstructed images, and trained a simple classifier using the PCA-reduced data.\n",
        "\n",
        "The number of components used here in PCA (n_components = 100) can be adjusted based on the trade-off between dimensionality reduction and preserving information."
      ],
      "metadata": {
        "id": "MK7n3Sk2yHdd"
      }
    },
    {
      "cell_type": "markdown",
      "source": [
        "### 8. Extra Credits\n",
        "Find the number of principal components (n_components) for best accuracy"
      ],
      "metadata": {
        "id": "qNJ8Z1uxzd3Z"
      }
    }
  ]
}