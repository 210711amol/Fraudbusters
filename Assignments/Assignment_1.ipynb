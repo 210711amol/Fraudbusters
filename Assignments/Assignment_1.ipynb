{
  "nbformat": 4,
  "nbformat_minor": 0,
  "metadata": {
    "colab": {
      "provenance": []
    },
    "kernelspec": {
      "name": "python3",
      "display_name": "Python 3"
    },
    "language_info": {
      "name": "python"
    }
  },
  "cells": [
    {
      "cell_type": "markdown",
      "source": [
        "### House Pricing Dataset\n",
        "This dataset contains various features or attributes related to a house, such as its size, number of rooms, amenities.\\\n",
        "The goal is to use the dataset to build a model that can predict the price of\n",
        "a house based on its features.\\\n",
        "This assignment is based on EDA of the dataset.\\\n",
        "https://drive.google.com/file/d/11zaqBkMq-J02u4j58oUbp0K2m_1C9MEI/view?usp=sharing"
      ],
      "metadata": {
        "id": "eCqwteu9CJ1v"
      }
    },
    {
      "cell_type": "markdown",
      "source": [
        "**INSTRUCTIONS:**\n",
        "\n",
        "Go to File -> Save a Copy in Drive and edit this notebook in your copy\n",
        "\n",
        "Write your code in following code cells\n",
        "\n",
        "Put all your doubts on Discord channel\n",
        "\n",
        "Marks will not be given if the code is plagiarised\n",
        "\n",
        "You can refer to prev class notebook (Fraudbuster_01)\n",
        "\n",
        "Total marks : 75\n"
      ],
      "metadata": {
        "id": "EMizKyYyC5FA"
      }
    },
    {
      "cell_type": "code",
      "source": [
        "import pandas as pd\n",
        "import numpy as np\n",
        "%matplotlib inline\n",
        "import matplotlib.pyplot as plt\n",
        "import seaborn as sns"
      ],
      "metadata": {
        "id": "3G1yMOLkCOai"
      },
      "execution_count": null,
      "outputs": []
    },
    {
      "cell_type": "markdown",
      "source": [
        "###1. Read data (1 Marks)"
      ],
      "metadata": {
        "id": "1yAPUvSBDIJQ"
      }
    },
    {
      "cell_type": "code",
      "source": [
        "##code"
      ],
      "metadata": {
        "id": "hEgvD_sZDK7T"
      },
      "execution_count": null,
      "outputs": []
    },
    {
      "cell_type": "markdown",
      "source": [
        "###2. Display top 10 rows and bottom 10 rows of the dataset (1 Marks)"
      ],
      "metadata": {
        "id": "YDa5M_RB7WFV"
      }
    },
    {
      "cell_type": "code",
      "source": [
        "##code"
      ],
      "metadata": {
        "id": "Ptwko4DU7VL4"
      },
      "execution_count": null,
      "outputs": []
    },
    {
      "cell_type": "markdown",
      "source": [
        "###3. Display shape of dataset (1 Marks)"
      ],
      "metadata": {
        "id": "IOuS6k_W8Hvv"
      }
    },
    {
      "cell_type": "code",
      "source": [
        "##code"
      ],
      "metadata": {
        "id": "6bPPIaCI74Ui"
      },
      "execution_count": null,
      "outputs": []
    },
    {
      "cell_type": "markdown",
      "source": [
        "###4. Display data types of all columns (1 Marks)"
      ],
      "metadata": {
        "id": "Hzh5N1xuMIUz"
      }
    },
    {
      "cell_type": "code",
      "source": [
        "##code"
      ],
      "metadata": {
        "id": "8REHBcseMbwd"
      },
      "execution_count": null,
      "outputs": []
    },
    {
      "cell_type": "markdown",
      "source": [
        "###5. Find stats of all columns (1 Marks)"
      ],
      "metadata": {
        "id": "u_XGA9y69Sjt"
      }
    },
    {
      "cell_type": "code",
      "source": [
        "##code"
      ],
      "metadata": {
        "id": "HH0rCj7L8L6w"
      },
      "execution_count": null,
      "outputs": []
    },
    {
      "cell_type": "markdown",
      "source": [
        "###6. Name which columns are features and which is target variable (5 Marks)"
      ],
      "metadata": {
        "id": "1wQL3NbX7nl6"
      }
    },
    {
      "cell_type": "code",
      "source": [
        "##code"
      ],
      "metadata": {
        "id": "JhIxGML39cD-"
      },
      "execution_count": null,
      "outputs": []
    },
    {
      "cell_type": "markdown",
      "source": [
        "###7. Of the 12 features differentiate numerical and categorical features (5 Marks)\n",
        "hint: Print unique rows for each feature\n"
      ],
      "metadata": {
        "id": "fgcO9KYLFR5C"
      }
    },
    {
      "cell_type": "code",
      "source": [
        "##code"
      ],
      "metadata": {
        "id": "wwUFqfOQFzcO"
      },
      "execution_count": null,
      "outputs": []
    },
    {
      "cell_type": "markdown",
      "source": [
        "###8. Find Null or Missing values in the dataset (5 Marks)"
      ],
      "metadata": {
        "id": "2MSIVcs28N0y"
      }
    },
    {
      "cell_type": "code",
      "source": [
        "##code"
      ],
      "metadata": {
        "id": "NwFDS_AK8drn"
      },
      "execution_count": null,
      "outputs": []
    },
    {
      "cell_type": "markdown",
      "source": [
        "###9. Plot the distribution of target variable : *'price'*. (5 Marks)"
      ],
      "metadata": {
        "id": "CB1afNhv8rd8"
      }
    },
    {
      "cell_type": "code",
      "source": [
        "##code"
      ],
      "metadata": {
        "id": "d3thLNqG_yFI"
      },
      "execution_count": null,
      "outputs": []
    },
    {
      "cell_type": "markdown",
      "source": [
        "###10. Find and Plot the categorical features against there count in dataset (25 Marks)\n",
        "hint: Find the count of rows for each unique value of a feature and then plot"
      ],
      "metadata": {
        "id": "9D-z_fzz_zwi"
      }
    },
    {
      "cell_type": "code",
      "source": [
        "##code"
      ],
      "metadata": {
        "id": "APsewIQsG4PL"
      },
      "execution_count": null,
      "outputs": []
    },
    {
      "cell_type": "markdown",
      "source": [
        "###11. Box-Plot for the numerical feature (5 Marks)"
      ],
      "metadata": {
        "id": "Es35a2sQG5u-"
      }
    },
    {
      "cell_type": "code",
      "source": [
        "##code"
      ],
      "metadata": {
        "id": "ljlNMe8aH14P"
      },
      "execution_count": null,
      "outputs": []
    },
    {
      "cell_type": "markdown",
      "source": [
        "###12. Check for duplicate rows in the dataset (5 Marks)"
      ],
      "metadata": {
        "id": "ODbEJDk5H3Wh"
      }
    },
    {
      "cell_type": "code",
      "source": [
        "##code"
      ],
      "metadata": {
        "id": "g_y7NDgcIS8v"
      },
      "execution_count": null,
      "outputs": []
    },
    {
      "cell_type": "markdown",
      "source": [
        "###13. Display Rows with *'area'* of house in range [7000, 7500] (5 Marks)"
      ],
      "metadata": {
        "id": "ZbHEO80xIVVd"
      }
    },
    {
      "cell_type": "code",
      "source": [
        "##code"
      ],
      "metadata": {
        "id": "L3ZW2-tpJRml"
      },
      "execution_count": null,
      "outputs": []
    },
    {
      "cell_type": "markdown",
      "source": [
        "###14. Price of house with largest area (5 Marks)"
      ],
      "metadata": {
        "id": "CAboRk5DJTNR"
      }
    },
    {
      "cell_type": "code",
      "source": [
        "##code"
      ],
      "metadata": {
        "id": "wdxZEMtLJgap"
      },
      "execution_count": null,
      "outputs": []
    },
    {
      "cell_type": "markdown",
      "source": [
        "###15. Plot a Scatter plot between *'price'* and *'area'* (5 Marks)"
      ],
      "metadata": {
        "id": "1zcoEj4HJh0_"
      }
    },
    {
      "cell_type": "code",
      "source": [
        "##code"
      ],
      "metadata": {
        "id": "26Fp4InSKSOx"
      },
      "execution_count": null,
      "outputs": []
    }
  ]
}